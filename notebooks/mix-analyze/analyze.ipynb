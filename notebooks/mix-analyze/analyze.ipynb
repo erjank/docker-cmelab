{
 "cells": [
  {
   "cell_type": "code",
   "execution_count": null,
   "metadata": {},
   "outputs": [],
   "source": [
    "import matplotlib.pyplot as plt\n",
    "import numpy\n",
    "%matplotlib inline\n",
    "#n=1000 for pure components, 2000 for mixtures\n",
    "#log columns: 0t 1pe 2ke 3T 4P 5V\n",
    "T = 1.8\n",
    "def pure_enthalpy(filename):\n",
    "    n=1000\n",
    "    d = numpy.loadtxt(filename,skiprows=50)\n",
    "    U = d[:,1]+d[:,2]\n",
    "    PV = d[:,4]*d[:,5]\n",
    "    H = U+PV\n",
    "    U,PV,H = U/n,PV/n,H/n\n",
    "    return H.mean()\n",
    "def mix_enthalpy(filename):\n",
    "    n=2000\n",
    "    d = numpy.loadtxt(filename,skiprows=50)\n",
    "    U = d[:,1]+d[:,2]\n",
    "    PV = d[:,4]*d[:,5]\n",
    "    H = U+PV\n",
    "    U,PV,H = U/n,PV/n,H/n\n",
    "    return H.mean()\n"
   ]
  },
  {
   "cell_type": "code",
   "execution_count": null,
   "metadata": {},
   "outputs": [],
   "source": [
    "H = [pure_enthalpy(\"B-1.8.log\")]\n",
    "for x in \"123456789\":\n",
    "    H.append(mix_enthalpy(\"AB-1.8-\"+x+\".log\"))\n",
    "H.append(pure_enthalpy(\"A-1.8.log\"))"
   ]
  },
  {
   "cell_type": "code",
   "execution_count": null,
   "metadata": {},
   "outputs": [],
   "source": [
    "plt.plot([i/10 for i in range(11)],H)\n",
    "plt.ylabel(\"H_mix\")\n",
    "plt.xlabel(\"xA\")"
   ]
  },
  {
   "cell_type": "code",
   "execution_count": null,
   "metadata": {},
   "outputs": [],
   "source": []
  }
 ],
 "metadata": {
  "kernelspec": {
   "display_name": "Python 3",
   "language": "python",
   "name": "python3"
  },
  "language_info": {
   "codemirror_mode": {
    "name": "ipython",
    "version": 3
   },
   "file_extension": ".py",
   "mimetype": "text/x-python",
   "name": "python",
   "nbconvert_exporter": "python",
   "pygments_lexer": "ipython3",
   "version": "3.6.4"
  }
 },
 "nbformat": 4,
 "nbformat_minor": 2
}
