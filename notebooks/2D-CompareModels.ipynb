{
 "cells": [
  {
   "cell_type": "code",
   "execution_count": null,
   "metadata": {
    "collapsed": true
   },
   "outputs": [],
   "source": [
    "#The import cell: You'll only need to run this cell once, but you'll need to run it first\n",
    "# To run, hold shift and press Enter.\n",
    "import hoomd\n",
    "import hoomd.md\n",
    "from hoomd import deprecated\n",
    "import mbuild, mdtraj, nglview, numpy\n",
    "import matplotlib.pyplot as plt\n",
    "%matplotlib inline\n",
    "Number_of_particles = 200 \n",
    "def quickrun(kT,AA,AB,BB,name):\n",
    "    Temperature = kT\n",
    "    hoomd.context.initialize(\"\")\n",
    "    system=hoomd.init.create_lattice(unitcell=hoomd.lattice.unitcell(N=2,a1=[2.2,0,0],a2=[0,1.1,0],a3=[0,0,1],dimensions=2,type_name=[\"A\",\"B\"],position=[[0,0,0],[1.1,0,0]]),n=10)\n",
    "    deprecated.dump.xml(filename=\"init.hoomdxml\",group=hoomd.group.all(),vis=True)\n",
    "    nl = hoomd.md.nlist.tree()\n",
    "    lj = hoomd.md.pair.lj(r_cut=2.5,nlist=nl)\n",
    "    lj.pair_coeff.set(\"A\",\"A\",epsilon=AA,sigma=1)\n",
    "    lj.pair_coeff.set(\"A\",\"B\",epsilon=AB,sigma=1)\n",
    "    lj.pair_coeff.set(\"B\",\"B\",epsilon=BB,sigma=1)\n",
    "    hoomd.md.integrate.mode_standard(dt=0.007)\n",
    "    all=hoomd.group.all()\n",
    "    hoomd.md.integrate.langevin(group=all,kT=Temperature,seed=14)\n",
    "    hoomd.dump.dcd(filename=name+\".dcd\",period=50,group=hoomd.group.all(),overwrite=True)\n",
    "    hoomd.analyze.log(filename=name+\"-log\",quantities=['potential_energy','temperature','pressure','kinetic_energy'],period=50,overwrite=True)\n",
    "    hoomd.run(5e4)\n",
    "    deprecated.dump.xml(filename=name+\".hoomdxml\",group=hoomd.group.all(),vis=True)\n",
    "    \n",
    "    "
   ]
  },
  {
   "cell_type": "code",
   "execution_count": null,
   "metadata": {
    "collapsed": true
   },
   "outputs": [],
   "source": [
    "#Ideal Gas\n",
    "kT=0.9\n",
    "name=\"IDEAL_GAS\"\n",
    "quickrun(kT,0,0,0,name) #Temperature, AA, AB, BB, and run name\n",
    "t = mdtraj.load(name+\".dcd\",top=name+\".hoomdxml\")\n",
    "view = nglview.show_mdtraj(t)\n",
    "view.clear_representations()\n",
    "view.add_representation(\"point\",selection=[i*2 for i in range(Number_of_particles)],color='blue',pointSize=2.5,useTexture=True)\n",
    "view.add_representation(\"point\",selection=[i*2+1 for i in range(Number_of_particles)],color='orange',pointSize=2.5,useTexture=True)\n",
    "print(name)\n",
    "data=numpy.loadtxt(name+\"-log\",skiprows=1)\n",
    "plt.plot(data[:,0],data[:,1]+data[:,4]) #Total energy vs time step\n",
    "plt.ylabel(\"Total Energy\")\n",
    "plt.ylabel(\"time step\")\n",
    "print(\"Average TE: {}\".format(numpy.mean(data[:,1]+data[:,4])))\n",
    "view"
   ]
  },
  {
   "cell_type": "code",
   "execution_count": null,
   "metadata": {
    "collapsed": true
   },
   "outputs": [],
   "source": [
    "#Identical Lennard-Jones Particles\n",
    "#Ideal Gas\n",
    "kT=0.9\n",
    "name=\"LENNARD_JONES\"\n",
    "quickrun(kT,1,1,1,name) #Temperature, AA, AB, BB, and run name\n",
    "t = mdtraj.load(name+\".dcd\",top=name+\".hoomdxml\")\n",
    "view = nglview.show_mdtraj(t)\n",
    "view.clear_representations()\n",
    "view.add_representation(\"point\",selection=[i*2 for i in range(Number_of_particles)],color='blue',pointSize=2.5,useTexture=True)\n",
    "view.add_representation(\"point\",selection=[i*2+1 for i in range(Number_of_particles)],color='orange',pointSize=2.5,useTexture=True)\n",
    "print(name)\n",
    "data=numpy.loadtxt(name+\"-log\",skiprows=1)\n",
    "plt.plot(data[:,0],data[:,1]+data[:,4]) #Total energy vs time step\n",
    "plt.ylabel(\"Total Energy\")\n",
    "plt.ylabel(\"time step\")\n",
    "print(\"Average TE: {}\".format(numpy.mean(data[:,1]+data[:,4])))\n",
    "view"
   ]
  },
  {
   "cell_type": "code",
   "execution_count": null,
   "metadata": {
    "collapsed": true
   },
   "outputs": [],
   "source": [
    "#Demixing Lennard-Jones (A does not Like B)\n",
    "#Ideal Gas\n",
    "kT=0.9\n",
    "name=\"Demix\"\n",
    "quickrun(kT,1,0.1,1,name) #Temperature, AA, AB, BB, and run name\n",
    "t = mdtraj.load(name+\".dcd\",top=name+\".hoomdxml\")\n",
    "view = nglview.show_mdtraj(t)\n",
    "view.clear_representations()\n",
    "view.add_representation(\"point\",selection=[i*2 for i in range(Number_of_particles)],color='blue',pointSize=2.5,useTexture=True)\n",
    "view.add_representation(\"point\",selection=[i*2+1 for i in range(Number_of_particles)],color='orange',pointSize=2.5,useTexture=True)\n",
    "print(name)\n",
    "data=numpy.loadtxt(name+\"-log\",skiprows=1)\n",
    "plt.plot(data[:,0],data[:,1]+data[:,4]) #Total energy vs time step\n",
    "plt.ylabel(\"Total Energy\")\n",
    "plt.ylabel(\"time step\")\n",
    "print(\"Average TE: {}\".format(numpy.mean(data[:,1]+data[:,4])))\n",
    "view"
   ]
  },
  {
   "cell_type": "code",
   "execution_count": null,
   "metadata": {
    "collapsed": true
   },
   "outputs": [],
   "source": [
    "#calculate heat capacity\n",
    "#Identical Lennard-Jones Particles\n",
    "#Ideal Gas\n",
    "Temps=numpy.arange(0.5,2.0,0.25)\n",
    "Energies = []\n",
    "Std = []\n",
    "name=\"IDEAL_GAS\"\n",
    "for T in Temps:\n",
    "    quickrun(T,0,0,0,name) #Temperature, AA, AB, BB, and run name\n",
    "    data=numpy.loadtxt(name+\"-log\",skiprows=1)\n",
    "    Energies.append(numpy.average(data[:,1]+data[:,4]))\n",
    "    Std.append(numpy.std(data[:,1]+data[:,4]))"
   ]
  },
  {
   "cell_type": "code",
   "execution_count": null,
   "metadata": {
    "collapsed": true
   },
   "outputs": [],
   "source": [
    "plt.plot(Temps,Energies) \n",
    "A = numpy.vstack([Temps, numpy.ones(len(Temps))]).T #some numpy magic needed for...\n",
    "m,b = numpy.linalg.lstsq(A,Energies,rcond=None)[0]  #doing the linear regression (y=mx+b)\n",
    "plt.plot(Temps,Energies,'o')\n",
    "plt.plot(Temps,m*Temps+b,'r')\n",
    "plt.xlabel(\"kT\")\n",
    "plt.ylabel(\"TE\")\n",
    "print(\"Slope, m={}\".format(m))"
   ]
  },
  {
   "cell_type": "code",
   "execution_count": null,
   "metadata": {
    "collapsed": true
   },
   "outputs": [],
   "source": []
  }
 ],
 "metadata": {
  "kernelspec": {
   "display_name": "Python 3",
   "language": "python",
   "name": "python3"
  },
  "language_info": {
   "codemirror_mode": {
    "name": "ipython",
    "version": 3
   },
   "file_extension": ".py",
   "mimetype": "text/x-python",
   "name": "python",
   "nbconvert_exporter": "python",
   "pygments_lexer": "ipython3",
   "version": "3.6.2"
  }
 },
 "nbformat": 4,
 "nbformat_minor": 2
}
