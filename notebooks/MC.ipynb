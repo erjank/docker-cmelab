{
 "cells": [
  {
   "cell_type": "code",
   "execution_count": 39,
   "metadata": {},
   "outputs": [],
   "source": [
    "import numpy\n",
    "\n",
    "def energy(occupied):\n",
    "    epsilon =-1\n",
    "    U = 0\n",
    "    for i, site1 in enumerate(occupied[:-1]): #all but the last!\n",
    "        for site2 in occupied[i+1:]: #from the i+1th to the last!\n",
    "            if numpy.absolute(site1-site2)==1:\n",
    "                U+=epsilon\n",
    "    return U\n",
    "\n",
    "def trial_move(occupied,lattice,T):\n",
    "    Uo = energy(occupied)\n",
    "    #pick a particle at random\n",
    "    numpy.random.shuffle(occupied) #shuffles the elements of occupied\n",
    "    old = occupied[0]\n",
    "    #pick an EMPTY place at random to move it to\n",
    "    empty_mask = numpy.isin(numpy.arange(V),occupied,invert=True)\n",
    "    empty_sites = numpy.arange(V)[empty_mask] # list of empty sites\n",
    "    new = empty_sites[numpy.random.randint(len(empty_sites))]\n",
    "    occupied[0]= new\n",
    "    #if energy down, accept\n",
    "    Un = energy(occupied)\n",
    "    #if energy up and random < boltzmann weight, accept\n",
    "    if (Un<=Uo) or numpy.random.random() < numpy.exp(-(Un-Uo)/T):\n",
    "        lattice[old] = 0\n",
    "        lattice[new] = 1\n",
    "        return occupied, lattice, Un\n",
    "    #otherwise reject\n",
    "    occupied[0]=old\n",
    "    return occupied, lattice, Uo\n",
    "\n",
    "#make our MC simulation!\n",
    "def run(nsteps,T,occupied, lattice):\n",
    "    U = []\n",
    "    for step in range(nsteps):\n",
    "        occupied, lattice, u = trial_move(occupied, lattice,T)\n",
    "        U.append(u)\n",
    "        if step%50==0:\n",
    "            print(step,lattice)\n",
    "    return numpy.array(U)/N"
   ]
  },
  {
   "cell_type": "code",
   "execution_count": 43,
   "metadata": {},
   "outputs": [
    {
     "name": "stdout",
     "output_type": "stream",
     "text": [
      "0 [0. 0. 1. 0. 0. 1. 0. 0. 0. 1. 0. 0. 1. 0. 0. 0. 0. 0. 1. 1.]\n",
      "50 [1. 0. 0. 0. 0. 0. 0. 0. 0. 0. 0. 0. 0. 0. 1. 1. 1. 1. 1. 0.]\n",
      "-0.6716666666666664\n"
     ]
    },
    {
     "data": {
      "image/png": "[encoded data removed]",
      "text/plain": [
       "<Figure size 432x288 with 1 Axes>"
      ]
     },
     "metadata": {},
     "output_type": "display_data"
    }
   ],
   "source": [
    "%matplotlib inline\n",
    "import matplotlib.pyplot as plt\n",
    "V = 20 #number of sites in our volume\n",
    "N = 6 # number of particles\n",
    "lattice = numpy.zeros(V)#Initialize empty lattice\n",
    "occupied = numpy.random.choice(V,N,replace=False)\n",
    "for site in occupied:\n",
    "    lattice[site] = 1\n",
    "\n",
    "U = run(100,0.1,occupied, lattice)\n",
    "plt.plot(U)\n",
    "print(numpy.average(U))"
   ]
  },
  {
   "cell_type": "code",
   "execution_count": null,
   "metadata": {},
   "outputs": [],
   "source": []
  }
 ],
 "metadata": {
  "kernelspec": {
   "display_name": "Python 3",
   "language": "python",
   "name": "python3"
  },
  "language_info": {
   "codemirror_mode": {
    "name": "ipython",
    "version": 3
   },
   "file_extension": ".py",
   "mimetype": "text/x-python",
   "name": "python",
   "nbconvert_exporter": "python",
   "pygments_lexer": "ipython3",
   "version": "3.6.4"
  }
 },
 "nbformat": 4,
 "nbformat_minor": 2
}
