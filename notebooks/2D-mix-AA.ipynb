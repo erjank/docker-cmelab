{
 "cells": [
  {
   "cell_type": "code",
   "execution_count": null,
   "metadata": {},
   "outputs": [],
   "source": [
    "#The import cell: You'll only need to run this cell once, but you'll need to run it first\n",
    "# To run, hold shift and press Enter.\n",
    "import hoomd\n",
    "import hoomd.md\n",
    "from hoomd import deprecated\n",
    "import mbuild, mdtraj, nglview, numpy\n",
    "import matplotlib.pyplot as plt\n",
    "%matplotlib inline"
   ]
  },
  {
   "cell_type": "code",
   "execution_count": null,
   "metadata": {},
   "outputs": [],
   "source": [
    "# The 'settings' cell\n",
    "# You can change these values to change how the simulations run\n",
    "Number_of_particles = 100 #A quirk of this notebook is that you should choose a square number here\n",
    "Temperature = 1.4 #These are \"dimensionless temperature units\" that map to Kelvin based upon the Lennard-Jones parameters"
   ]
  },
  {
   "cell_type": "code",
   "execution_count": null,
   "metadata": {},
   "outputs": [],
   "source": [
    "# The simulation engine initializer cell\n",
    "# This if you change something in the settings above, you'll need to re-run that cell and this one before \n",
    "# running another simulation\n",
    "hoomd.context.initialize(\"\")\n",
    "system=hoomd.init.create_lattice(unitcell=hoomd.lattice.unitcell(N=1,a1=[1.1,0,0],a2=[0,1.1,0],a3=[0,0,1],dimensions=2,type_name=[\"A\"],position=[[0,0,0]]),n=int(Number_of_particles**.5))\n",
    "deprecated.dump.xml(filename=\"init.hoomdxml\",group=hoomd.group.all(),vis=True)\n",
    "nl = hoomd.md.nlist.tree()\n",
    "lj = hoomd.md.pair.lj(r_cut=2.5,nlist=nl)\n",
    "lj.pair_coeff.set(\"A\",\"A\",epsilon=1,sigma=1)\n",
    "hoomd.md.integrate.mode_standard(dt=0.007)\n",
    "all=hoomd.group.all()\n",
    "hoomd.md.integrate.langevin(group=all,kT=Temperature,seed=14)"
   ]
  },
  {
   "cell_type": "code",
   "execution_count": null,
   "metadata": {},
   "outputs": [],
   "source": [
    "#The simulation cell\n",
    "# Run this cell to output a 'log' file, plus a couple of files that store info for all the microstates sampled\n",
    "hoomd.dump.dcd(filename=\"traj.dcd\",period=50,group=hoomd.group.all(),overwrite=True)\n",
    "hoomd.analyze.log(filename=\"log\",quantities=['potential_energy','temperature','pressure','kinetic_energy'],period=50,overwrite=True)\n",
    "hoomd.run(5e4)\n",
    "deprecated.dump.xml(filename=\"final.hoomdxml\",group=hoomd.group.all(),vis=True)"
   ]
  },
  {
   "cell_type": "code",
   "execution_count": null,
   "metadata": {},
   "outputs": [],
   "source": [
    "# The visualization cell\n",
    "# Run this to see the atoms move!\n",
    "t = mdtraj.load(\"traj.dcd\",top=\"final.hoomdxml\")\n",
    "view = nglview.show_mdtraj(t)\n",
    "view.clear_representations()\n",
    "view.add_representation(\"point\",selection=[i for i in range(0,Number_of_particles//2)],color='blue',pointSize=2.5,useTexture=True)\n",
    "view.add_representation(\"point\",selection=[i for i in range(Number_of_particles//2,Number_of_particles)],color='orange',pointSize=2.5,useTexture=True)\n",
    "view\n",
    "#After running this cell, you can press \"play\" below and use the slider to view different microstates.\n",
    "#Sometimes you'll get a bunch of pink warnings if the slider starts over - you can ignore these safely."
   ]
  },
  {
   "cell_type": "code",
   "execution_count": null,
   "metadata": {},
   "outputs": [],
   "source": [
    "#The data in the log file has the timestep in column 0, PE in column 1, T in column 2, P in column 3, and KE in column 4\n",
    "data=numpy.loadtxt(\"log\",skiprows=1)\n",
    "plt.plot(data[:,1]) #Remember this excellent slice notation from MSE 150? Hooray!!\n",
    "plt.ylabel(\"Potential Energy\")\n",
    "print(\"Average PE: {}\".format(numpy.mean(data[:,1])))"
   ]
  },
  {
   "cell_type": "code",
   "execution_count": null,
   "metadata": {},
   "outputs": [],
   "source": [
    "plt.plot(data[:,2])\n",
    "plt.ylabel(\"Temperature\")"
   ]
  },
  {
   "cell_type": "code",
   "execution_count": null,
   "metadata": {},
   "outputs": [],
   "source": [
    "plt.plot(data[:,3])\n",
    "plt.ylabel(\"Pressure\")"
   ]
  },
  {
   "cell_type": "code",
   "execution_count": null,
   "metadata": {},
   "outputs": [],
   "source": [
    "# What's the pressure when T=1.0?"
   ]
  },
  {
   "cell_type": "code",
   "execution_count": null,
   "metadata": {},
   "outputs": [],
   "source": [
    "# What's the probability of observing the total system energy outside 1 standard deviation at T=1.0?\n",
    "# a) Calculate the total energy of the system as a function of time (Potential plus kinetic energy)\n",
    "Total_Energy = data[:,1] + data[:,FILL_IN_THIS_BLANK]\n",
    "# b) Calculate the average and standard deviation of total energy\n",
    "average = numpy.mean(Total_Energy)\n",
    "standard_deviation = numpy.std(Total_Energy)\n",
    "# c) find the entries outside this range\n",
    "high_anomalies = Total_Energy[Total_Energy>average+standard_deviation] # You can ignore how this logic works for now, or come chat if you're curious! But it works.\n",
    "low_anomalies = Total_Energy[Total_Energy<average-FILL_IN_THIS_BLANK]\n",
    "print(\"prob:{}\".format((len(high_anomalies)+len(low_anomalies))/len(FILL_IN_THIS_BLANK)))"
   ]
  },
  {
   "cell_type": "code",
   "execution_count": null,
   "metadata": {},
   "outputs": [],
   "source": []
  }
 ],
 "metadata": {
  "kernelspec": {
   "display_name": "Python 3",
   "language": "python",
   "name": "python3"
  },
  "language_info": {
   "codemirror_mode": {
    "name": "ipython",
    "version": 3
   },
   "file_extension": ".py",
   "mimetype": "text/x-python",
   "name": "python",
   "nbconvert_exporter": "python",
   "pygments_lexer": "ipython3",
   "version": "3.6.4"
  }
 },
 "nbformat": 4,
 "nbformat_minor": 2
}
